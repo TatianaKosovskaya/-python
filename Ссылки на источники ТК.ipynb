{
 "cells": [
  {
   "cell_type": "code",
   "execution_count": 1,
   "id": "f2fe13c8",
   "metadata": {},
   "outputs": [],
   "source": [
    "#Поиск локальных экстремумов функции двух переменных Python №1:\n",
    "#Ссылка: https://habr.com/ru/post/332092/ (в конце есть код на python)\n",
    "\n",
    "#Поиск локальных экстремумов функции двух переменных Python №2 (метод градиентного спуска):\n",
    "#Ссылка: https://russianblogs.com/article/19311261620/ (в конце есть код на python)\n",
    "\n",
    "#Поиск локальных экстремумов функции двух переменных Python №3:\n",
    "#Ссылка: https://zen.yandex.ru/media/id/5bde1bca1d2f9400abd83765/den-5-algoritmy-optimizacii-znakomimsia-s-scipy-5c235420fabf9700aac01da9\n",
    "\n",
    "#Поиск локальных экстремумов функции двух переменных Python №4:\n",
    "#Ссылка: http://www.osc.phys.msu.ru/mediawiki/upload/Khalili/optimize.pdf\n",
    "\n",
    "#Поиск локальных экстремумов функции двух переменных Python №5:\n",
    "#Ссылка: http://www.100byte.ru/python/nm/nm.html\n",
    "\n",
    "#Поиск локальных экстремумов функции двух переменных Python №6:\n",
    "#Ссылка: https://habr.com/ru/post/308626/\n",
    "\n",
    "\n",
    "\n",
    "#Поиск локальных экстремумов функции двух переменных с ограничениями (метод Лагранжа) Python №1:\n",
    "#Ссылка: https://russianblogs.com/article/45811549700/\n",
    "\n",
    "#Поиск локальных экстремумов функции двух переменных с ограничениями (метод Лагранжа) Python №2:\n",
    "#Ссылка: https://habr.com/ru/post/340364/ (трёх переменных)\n",
    "\n",
    "\n",
    "\n",
    "#Способы построения 3D графиков Python №1:\n",
    "#Ссылка: https://pythobyte.com/3-dimensional-plots-in-python-93cb2571/\n",
    "\n",
    "#Способы построения 3D графиков Python №2:\n",
    "#Ссылка: https://devpractice.ru/matplotlib-lesson-5-1-mplot3d-toolkit/\n",
    "\n",
    "#Способы построения 3D графиков Python №3:\n",
    "#Ссылка: https://pythonru.com/biblioteki/prodvinutye-grafiki-pyplot-plt-4\n",
    "\n",
    "#Способы построения 3D графиков Python №4:\n",
    "#Ссылка: https://jenyay.net/Programming/Python3d"
   ]
  }
 ],
 "metadata": {
  "kernelspec": {
   "display_name": "Python 3 (ipykernel)",
   "language": "python",
   "name": "python3"
  },
  "language_info": {
   "codemirror_mode": {
    "name": "ipython",
    "version": 3
   },
   "file_extension": ".py",
   "mimetype": "text/x-python",
   "name": "python",
   "nbconvert_exporter": "python",
   "pygments_lexer": "ipython3",
   "version": "3.9.7"
  }
 },
 "nbformat": 4,
 "nbformat_minor": 5
}
